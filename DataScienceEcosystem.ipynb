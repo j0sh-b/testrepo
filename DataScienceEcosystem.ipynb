{
 "cells": [
  {
   "cell_type": "markdown",
   "id": "1765037f",
   "metadata": {},
   "source": [
    "# Data Science Tools and Ecosystem"
   ]
  },
  {
   "cell_type": "markdown",
   "id": "84f2e510",
   "metadata": {},
   "source": [
    "A summarization of the Data Science Ecosystem and Tools are contained within this notebook."
   ]
  },
  {
   "cell_type": "markdown",
   "id": "7061c02f",
   "metadata": {},
   "source": [
    "Popular Data Science Languages include:\n",
    "1. Python\n",
    "2. R\n",
    "3. Julia\n"
   ]
  },
  {
   "cell_type": "markdown",
   "id": "4b457fac",
   "metadata": {},
   "source": [
    "Libraries Commonly Utilized by Data Scientists:\n",
    "1. NumPy\n",
    "2. Pandas\n",
    "3. Matplotlib"
   ]
  },
  {
   "cell_type": "markdown",
   "id": "144102c0",
   "metadata": {},
   "source": [
    "| Data Science Tools |\n",
    "-----------------------\n",
    "| Jupyter Notebook |\n",
    "| RStudio |\n",
    "| Sypder |\n"
   ]
  },
  {
   "cell_type": "markdown",
   "id": "0a72b5a4",
   "metadata": {},
   "source": [
    "### Examples of Evaluating Aritmetic Expressions in Python are below:"
   ]
  },
  {
   "cell_type": "code",
   "execution_count": 2,
   "id": "df7a8b7c",
   "metadata": {},
   "outputs": [
    {
     "data": {
      "text/plain": [
       "17"
      ]
     },
     "execution_count": 2,
     "metadata": {},
     "output_type": "execute_result"
    }
   ],
   "source": [
    "# A simple arithmetic expression to multiply then add integers #\n",
    "(3*4)+5"
   ]
  },
  {
   "cell_type": "code",
   "execution_count": 3,
   "id": "27944fc5",
   "metadata": {},
   "outputs": [
    {
     "data": {
      "text/plain": [
       "3.3333333333333335"
      ]
     },
     "execution_count": 3,
     "metadata": {},
     "output_type": "execute_result"
    }
   ],
   "source": [
    "# Conversion of 200 minutes to hours with division by 60 #\n",
    "(200/60)"
   ]
  },
  {
   "cell_type": "markdown",
   "id": "615cfc64",
   "metadata": {},
   "source": [
    "__Objectives:__\n",
    "- Popular Data Science Languages\n",
    "- Libraries Commonly Utilized by Data Scientists\n",
    "- Common Data Science Tools\n",
    "- Examples of Evaluating Arithmetic Expressions in Python"
   ]
  },
  {
   "cell_type": "markdown",
   "id": "764cbf3d",
   "metadata": {},
   "source": [
    "## Author\n",
    "Josh Black"
   ]
  }
 ],
 "metadata": {
  "kernelspec": {
   "display_name": "Python 3 (ipykernel)",
   "language": "python",
   "name": "python3"
  },
  "language_info": {
   "codemirror_mode": {
    "name": "ipython",
    "version": 3
   },
   "file_extension": ".py",
   "mimetype": "text/x-python",
   "name": "python",
   "nbconvert_exporter": "python",
   "pygments_lexer": "ipython3",
   "version": "3.11.7"
  }
 },
 "nbformat": 4,
 "nbformat_minor": 5
}
